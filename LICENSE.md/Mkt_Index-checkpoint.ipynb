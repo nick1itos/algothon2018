{
 "cells": [
  {
   "cell_type": "code",
   "execution_count": 1,
   "metadata": {},
   "outputs": [],
   "source": [
    "import pandas_datareader as pdr\n",
    "import datetime\n",
    "import pandas as pd\n",
    "import matplotlib.pyplot as plt\n",
    "import numpy as np\n",
    "import statsmodels.api as sm\n",
    "from scipy import stats"
   ]
  },
  {
   "cell_type": "code",
   "execution_count": 2,
   "metadata": {},
   "outputs": [],
   "source": [
    "# obtain data from yahoo\n",
    "def get(tickers, startdate, enddate):\n",
    "    def data(ticker):\n",
    "        return (pdr.get_data_yahoo(ticker, start = startdate, end = enddate))\n",
    "    datas = map (data, tickers)\n",
    "    return(pd.concat(datas, keys = tickers, names = ['Ticker', 'Date']))"
   ]
  },
  {
   "cell_type": "code",
   "execution_count": 3,
   "metadata": {},
   "outputs": [],
   "source": [
    "# obtain train and test datasets\n",
    "tickers = ['^NYA', '^N225', '000001.SS', '^GSPC']\n",
    "mkt_index = get(tickers, datetime.datetime(2010, 1, 1), datetime.datetime(2015, 9, 30))\n",
    "mkt_index_val = get(tickers, datetime.datetime(2015, 10, 1), datetime.datetime(2017, 3, 31))\n",
    "mkt_index_test = get(tickers, datetime.datetime(2017, 4, 1), datetime.datetime(2018, 10, 21))"
   ]
  },
  {
   "cell_type": "code",
   "execution_count": 4,
   "metadata": {},
   "outputs": [],
   "source": [
    "# calculate daily pct change of returns\n",
    "mkt_index_close = mkt_index[['Close']]\n",
    "mkt_index_returns = mkt_index_close.pct_change()\n",
    "mkt_index_test_close = mkt_index_test[['Close']]\n",
    "mkt_index_test_returns = mkt_index_test_close.pct_change()\n",
    "mkt_index_val_close = mkt_index_val[['Close']]\n",
    "mkt_index_val_returns = mkt_index_val_close.pct_change()"
   ]
  },
  {
   "cell_type": "code",
   "execution_count": 5,
   "metadata": {},
   "outputs": [
    {
     "data": {
      "text/html": [
       "<div>\n",
       "<style scoped>\n",
       "    .dataframe tbody tr th:only-of-type {\n",
       "        vertical-align: middle;\n",
       "    }\n",
       "\n",
       "    .dataframe tbody tr th {\n",
       "        vertical-align: top;\n",
       "    }\n",
       "\n",
       "    .dataframe thead th {\n",
       "        text-align: right;\n",
       "    }\n",
       "</style>\n",
       "<table border=\"1\" class=\"dataframe\">\n",
       "  <thead>\n",
       "    <tr style=\"text-align: right;\">\n",
       "      <th></th>\n",
       "      <th>SHCOMP</th>\n",
       "      <th>SPX</th>\n",
       "      <th>NIKKEI</th>\n",
       "      <th>NYSE</th>\n",
       "    </tr>\n",
       "    <tr>\n",
       "      <th>Date</th>\n",
       "      <th></th>\n",
       "      <th></th>\n",
       "      <th></th>\n",
       "      <th></th>\n",
       "    </tr>\n",
       "  </thead>\n",
       "  <tbody>\n",
       "    <tr>\n",
       "      <th>2015-09-24</th>\n",
       "      <td>0.008601</td>\n",
       "      <td>-0.003363</td>\n",
       "      <td>-0.027580</td>\n",
       "      <td>-0.003049</td>\n",
       "    </tr>\n",
       "    <tr>\n",
       "      <th>2015-09-25</th>\n",
       "      <td>-0.016018</td>\n",
       "      <td>-0.000466</td>\n",
       "      <td>0.017567</td>\n",
       "      <td>0.001977</td>\n",
       "    </tr>\n",
       "    <tr>\n",
       "      <th>2015-09-28</th>\n",
       "      <td>0.002719</td>\n",
       "      <td>-0.025666</td>\n",
       "      <td>-0.013165</td>\n",
       "      <td>-0.025954</td>\n",
       "    </tr>\n",
       "    <tr>\n",
       "      <th>2015-09-29</th>\n",
       "      <td>-0.020195</td>\n",
       "      <td>0.001233</td>\n",
       "      <td>-0.040480</td>\n",
       "      <td>0.002151</td>\n",
       "    </tr>\n",
       "    <tr>\n",
       "      <th>2015-09-30</th>\n",
       "      <td>0.004820</td>\n",
       "      <td>0.019076</td>\n",
       "      <td>0.027011</td>\n",
       "      <td>0.018460</td>\n",
       "    </tr>\n",
       "  </tbody>\n",
       "</table>\n",
       "</div>"
      ],
      "text/plain": [
       "              SHCOMP       SPX    NIKKEI      NYSE\n",
       "Date                                              \n",
       "2015-09-24  0.008601 -0.003363 -0.027580 -0.003049\n",
       "2015-09-25 -0.016018 -0.000466  0.017567  0.001977\n",
       "2015-09-28  0.002719 -0.025666 -0.013165 -0.025954\n",
       "2015-09-29 -0.020195  0.001233 -0.040480  0.002151\n",
       "2015-09-30  0.004820  0.019076  0.027011  0.018460"
      ]
     },
     "execution_count": 5,
     "metadata": {},
     "output_type": "execute_result"
    }
   ],
   "source": [
    "return_datas = mkt_index_returns.reset_index().pivot('Date', 'Ticker')\n",
    "return_datas.columns = ['SHCOMP', 'SPX', 'NIKKEI', 'NYSE']\n",
    "return_datas = return_datas.iloc[1:len(return_datas)-1]\n",
    "return_datas.fillna(0, inplace = True)\n",
    "return_datas.tail()"
   ]
  },
  {
   "cell_type": "code",
   "execution_count": 6,
   "metadata": {},
   "outputs": [],
   "source": [
    "nyse_close = return_datas[['NYSE']]\n",
    "nikkei_close = return_datas[['NIKKEI']]"
   ]
  },
  {
   "cell_type": "code",
   "execution_count": 7,
   "metadata": {},
   "outputs": [
    {
     "data": {
      "text/html": [
       "<div>\n",
       "<style scoped>\n",
       "    .dataframe tbody tr th:only-of-type {\n",
       "        vertical-align: middle;\n",
       "    }\n",
       "\n",
       "    .dataframe tbody tr th {\n",
       "        vertical-align: top;\n",
       "    }\n",
       "\n",
       "    .dataframe thead th {\n",
       "        text-align: right;\n",
       "    }\n",
       "</style>\n",
       "<table border=\"1\" class=\"dataframe\">\n",
       "  <thead>\n",
       "    <tr style=\"text-align: right;\">\n",
       "      <th></th>\n",
       "      <th>SHCOMP</th>\n",
       "      <th>SPX</th>\n",
       "      <th>NIKKEI</th>\n",
       "      <th>NYSE</th>\n",
       "    </tr>\n",
       "    <tr>\n",
       "      <th>Date</th>\n",
       "      <th></th>\n",
       "      <th></th>\n",
       "      <th></th>\n",
       "      <th></th>\n",
       "    </tr>\n",
       "  </thead>\n",
       "  <tbody>\n",
       "    <tr>\n",
       "      <th>2017-04-04</th>\n",
       "      <td>0.000000</td>\n",
       "      <td>0.000560</td>\n",
       "      <td>-0.009112</td>\n",
       "      <td>0.000578</td>\n",
       "    </tr>\n",
       "    <tr>\n",
       "      <th>2017-04-05</th>\n",
       "      <td>-0.854860</td>\n",
       "      <td>-0.003055</td>\n",
       "      <td>0.002712</td>\n",
       "      <td>-0.004113</td>\n",
       "    </tr>\n",
       "    <tr>\n",
       "      <th>2017-04-06</th>\n",
       "      <td>0.003272</td>\n",
       "      <td>0.001930</td>\n",
       "      <td>-0.014008</td>\n",
       "      <td>0.002970</td>\n",
       "    </tr>\n",
       "    <tr>\n",
       "      <th>2017-04-07</th>\n",
       "      <td>0.001710</td>\n",
       "      <td>-0.000827</td>\n",
       "      <td>0.003633</td>\n",
       "      <td>-0.001022</td>\n",
       "    </tr>\n",
       "    <tr>\n",
       "      <th>2017-04-10</th>\n",
       "      <td>-0.005240</td>\n",
       "      <td>0.000688</td>\n",
       "      <td>0.007139</td>\n",
       "      <td>0.001639</td>\n",
       "    </tr>\n",
       "  </tbody>\n",
       "</table>\n",
       "</div>"
      ],
      "text/plain": [
       "              SHCOMP       SPX    NIKKEI      NYSE\n",
       "Date                                              \n",
       "2017-04-04  0.000000  0.000560 -0.009112  0.000578\n",
       "2017-04-05 -0.854860 -0.003055  0.002712 -0.004113\n",
       "2017-04-06  0.003272  0.001930 -0.014008  0.002970\n",
       "2017-04-07  0.001710 -0.000827  0.003633 -0.001022\n",
       "2017-04-10 -0.005240  0.000688  0.007139  0.001639"
      ]
     },
     "execution_count": 7,
     "metadata": {},
     "output_type": "execute_result"
    }
   ],
   "source": [
    "return_datas_test = mkt_index_test_returns.reset_index().pivot('Date', 'Ticker')\n",
    "return_datas_test.columns = ['SHCOMP', 'SPX', 'NIKKEI', 'NYSE']\n",
    "return_datas_test = return_datas_test.iloc[1:]\n",
    "return_datas_test.fillna(0, inplace = True)\n",
    "return_datas_test.head()"
   ]
  },
  {
   "cell_type": "code",
   "execution_count": 8,
   "metadata": {},
   "outputs": [
    {
     "data": {
      "text/html": [
       "<div>\n",
       "<style scoped>\n",
       "    .dataframe tbody tr th:only-of-type {\n",
       "        vertical-align: middle;\n",
       "    }\n",
       "\n",
       "    .dataframe tbody tr th {\n",
       "        vertical-align: top;\n",
       "    }\n",
       "\n",
       "    .dataframe thead th {\n",
       "        text-align: right;\n",
       "    }\n",
       "</style>\n",
       "<table border=\"1\" class=\"dataframe\">\n",
       "  <thead>\n",
       "    <tr style=\"text-align: right;\">\n",
       "      <th></th>\n",
       "      <th>SHCOMP</th>\n",
       "      <th>SPX</th>\n",
       "      <th>NIKKEI</th>\n",
       "      <th>NYSE</th>\n",
       "    </tr>\n",
       "    <tr>\n",
       "      <th>Date</th>\n",
       "      <th></th>\n",
       "      <th></th>\n",
       "      <th></th>\n",
       "      <th></th>\n",
       "    </tr>\n",
       "  </thead>\n",
       "  <tbody>\n",
       "    <tr>\n",
       "      <th>2015-10-02</th>\n",
       "      <td>0.000000</td>\n",
       "      <td>0.014315</td>\n",
       "      <td>0.000153</td>\n",
       "      <td>0.015539</td>\n",
       "    </tr>\n",
       "    <tr>\n",
       "      <th>2015-10-05</th>\n",
       "      <td>0.000000</td>\n",
       "      <td>0.018290</td>\n",
       "      <td>0.015817</td>\n",
       "      <td>0.019489</td>\n",
       "    </tr>\n",
       "    <tr>\n",
       "      <th>2015-10-06</th>\n",
       "      <td>0.000000</td>\n",
       "      <td>-0.003588</td>\n",
       "      <td>0.010031</td>\n",
       "      <td>-0.001136</td>\n",
       "    </tr>\n",
       "    <tr>\n",
       "      <th>2015-10-07</th>\n",
       "      <td>0.000000</td>\n",
       "      <td>0.008036</td>\n",
       "      <td>0.007527</td>\n",
       "      <td>0.010057</td>\n",
       "    </tr>\n",
       "    <tr>\n",
       "      <th>2015-10-08</th>\n",
       "      <td>-0.833766</td>\n",
       "      <td>0.008818</td>\n",
       "      <td>-0.009923</td>\n",
       "      <td>0.009994</td>\n",
       "    </tr>\n",
       "  </tbody>\n",
       "</table>\n",
       "</div>"
      ],
      "text/plain": [
       "              SHCOMP       SPX    NIKKEI      NYSE\n",
       "Date                                              \n",
       "2015-10-02  0.000000  0.014315  0.000153  0.015539\n",
       "2015-10-05  0.000000  0.018290  0.015817  0.019489\n",
       "2015-10-06  0.000000 -0.003588  0.010031 -0.001136\n",
       "2015-10-07  0.000000  0.008036  0.007527  0.010057\n",
       "2015-10-08 -0.833766  0.008818 -0.009923  0.009994"
      ]
     },
     "execution_count": 8,
     "metadata": {},
     "output_type": "execute_result"
    }
   ],
   "source": [
    "return_datas_val = mkt_index_val_returns.reset_index().pivot('Date', 'Ticker')\n",
    "return_datas_val.columns = ['SHCOMP', 'SPX', 'NIKKEI', 'NYSE']\n",
    "return_datas_val = return_datas_val.iloc[1:]\n",
    "return_datas_val.fillna(0, inplace = True)\n",
    "return_datas_val.head()"
   ]
  },
  {
   "cell_type": "code",
   "execution_count": 9,
   "metadata": {},
   "outputs": [
    {
     "data": {
      "text/plain": [
       "\"\\n#seperate indices returns\\nnyse_returns = mkt_index_returns.iloc[mkt_index_returns.index.get_level_values('Ticker') == '^NYA']\\nnyse_returns.index = nyse_returns.index.droplevel('Ticker')\\n#drop the first NA row\\nnyse_returns = nyse_returns.iloc[1:]\\n\\nnikkei_returns = mkt_index_returns.iloc[mkt_index_returns.index.get_level_values('Ticker') == '^N225']\\nnikkei_returns.index = nikkei_returns.index.droplevel('Ticker')\\nnikkei_returns = nikkei_returns.iloc[1:]\\nshcomp_returns = mkt_index_returns.iloc[mkt_index_returns.index.get_level_values('Ticker') == '000001.SS']\\nshcomp_returns.index = shcomp_returns.index.droplevel('Ticker')\\nshcomp_returns = shcomp_returns.iloc[1:]\\nspx_returns = mkt_index_returns.iloc[mkt_index_returns.index.get_level_values('Ticker') == '^GSPC']\\nspx_returns.index = spx_returns.index.droplevel('Ticker')\\nspx_returns = spx_returns.iloc[1:]\\n\""
      ]
     },
     "execution_count": 9,
     "metadata": {},
     "output_type": "execute_result"
    }
   ],
   "source": [
    "\"\"\"\n",
    "#seperate indices returns\n",
    "nyse_returns = mkt_index_returns.iloc[mkt_index_returns.index.get_level_values('Ticker') == '^NYA']\n",
    "nyse_returns.index = nyse_returns.index.droplevel('Ticker')\n",
    "#drop the first NA row\n",
    "nyse_returns = nyse_returns.iloc[1:]\n",
    "\n",
    "nikkei_returns = mkt_index_returns.iloc[mkt_index_returns.index.get_level_values('Ticker') == '^N225']\n",
    "nikkei_returns.index = nikkei_returns.index.droplevel('Ticker')\n",
    "nikkei_returns = nikkei_returns.iloc[1:]\n",
    "shcomp_returns = mkt_index_returns.iloc[mkt_index_returns.index.get_level_values('Ticker') == '000001.SS']\n",
    "shcomp_returns.index = shcomp_returns.index.droplevel('Ticker')\n",
    "shcomp_returns = shcomp_returns.iloc[1:]\n",
    "spx_returns = mkt_index_returns.iloc[mkt_index_returns.index.get_level_values('Ticker') == '^GSPC']\n",
    "spx_returns.index = spx_returns.index.droplevel('Ticker')\n",
    "spx_returns = spx_returns.iloc[1:]\n",
    "\"\"\""
   ]
  },
  {
   "cell_type": "code",
   "execution_count": 10,
   "metadata": {},
   "outputs": [
    {
     "data": {
      "text/plain": [
       "\"\\n#concatenate indices returns\\nreturn_data = pd.concat([nyse_returns, nikkei_returns, shcomp_returns, spx_returns], axis = 1)\\nreturn_data.columns = ['NYSE', 'NIKKEI', 'SHCOMP', 'SPX']\\n\\n#fill NA with 0\\nreturn_data.fillna(0, inplace = True)\\n\""
      ]
     },
     "execution_count": 10,
     "metadata": {},
     "output_type": "execute_result"
    }
   ],
   "source": [
    "\"\"\"\n",
    "#concatenate indices returns\n",
    "return_data = pd.concat([nyse_returns, nikkei_returns, shcomp_returns, spx_returns], axis = 1)\n",
    "return_data.columns = ['NYSE', 'NIKKEI', 'SHCOMP', 'SPX']\n",
    "\n",
    "#fill NA with 0\n",
    "return_data.fillna(0, inplace = True)\n",
    "\"\"\""
   ]
  },
  {
   "cell_type": "code",
   "execution_count": 11,
   "metadata": {},
   "outputs": [
    {
     "data": {
      "image/png": "[encoded data removed]",
      "text/plain": [
       "<Figure size 216x144 with 1 Axes>"
      ]
     },
     "metadata": {},
     "output_type": "display_data"
    }
   ],
   "source": [
    "return_datas['NYSE'].hist(bins = 50, figsize = (3, 2))\n",
    "#nikkei_returns.hist(bins = 50, figsize = (3, 2))\n",
    "#shcomp_returns.hist(bins = 50, figsize = (3, 2))\n",
    "plt.show()"
   ]
  },
  {
   "cell_type": "code",
   "execution_count": 12,
   "metadata": {},
   "outputs": [
    {
     "data": {
      "image/png": "[encoded data removed]",
      "text/plain": [
       "<Figure size 288x216 with 1 Axes>"
      ]
     },
     "metadata": {},
     "output_type": "display_data"
    }
   ],
   "source": [
    "return_datas.plot(figsize = (4, 3))\n",
    "plt.show()"
   ]
  },
  {
   "cell_type": "code",
   "execution_count": 14,
   "metadata": {},
   "outputs": [
    {
     "data": {
      "text/html": [
       "<table class=\"simpletable\">\n",
       "<caption>OLS Regression Results</caption>\n",
       "<tr>\n",
       "  <th>Dep. Variable:</th>         <td>NIKKEI</td>      <th>  R-squared:         </th> <td>   0.030</td>\n",
       "</tr>\n",
       "<tr>\n",
       "  <th>Model:</th>                   <td>OLS</td>       <th>  Adj. R-squared:    </th> <td>   0.029</td>\n",
       "</tr>\n",
       "<tr>\n",
       "  <th>Method:</th>             <td>Least Squares</td>  <th>  F-statistic:       </th> <td>   45.95</td>\n",
       "</tr>\n",
       "<tr>\n",
       "  <th>Date:</th>             <td>Sun, 21 Oct 2018</td> <th>  Prob (F-statistic):</th> <td>1.74e-11</td>\n",
       "</tr>\n",
       "<tr>\n",
       "  <th>Time:</th>                 <td>09:01:02</td>     <th>  Log-Likelihood:    </th> <td>  4342.2</td>\n",
       "</tr>\n",
       "<tr>\n",
       "  <th>No. Observations:</th>      <td>  1493</td>      <th>  AIC:               </th> <td>  -8680.</td>\n",
       "</tr>\n",
       "<tr>\n",
       "  <th>Df Residuals:</th>          <td>  1491</td>      <th>  BIC:               </th> <td>  -8670.</td>\n",
       "</tr>\n",
       "<tr>\n",
       "  <th>Df Model:</th>              <td>     1</td>      <th>                     </th>     <td> </td>   \n",
       "</tr>\n",
       "<tr>\n",
       "  <th>Covariance Type:</th>      <td>nonrobust</td>    <th>                     </th>     <td> </td>   \n",
       "</tr>\n",
       "</table>\n",
       "<table class=\"simpletable\">\n",
       "<tr>\n",
       "    <td></td>       <th>coef</th>     <th>std err</th>      <th>t</th>      <th>P>|t|</th>  <th>[0.025</th>    <th>0.975]</th>  \n",
       "</tr>\n",
       "<tr>\n",
       "  <th>const</th> <td>    0.0004</td> <td>    0.000</td> <td>    1.060</td> <td> 0.289</td> <td>   -0.000</td> <td>    0.001</td>\n",
       "</tr>\n",
       "<tr>\n",
       "  <th>NYSE</th>  <td>    0.2240</td> <td>    0.033</td> <td>    6.778</td> <td> 0.000</td> <td>    0.159</td> <td>    0.289</td>\n",
       "</tr>\n",
       "</table>\n",
       "<table class=\"simpletable\">\n",
       "<tr>\n",
       "  <th>Omnibus:</th>       <td>218.467</td> <th>  Durbin-Watson:     </th> <td>   2.262</td>\n",
       "</tr>\n",
       "<tr>\n",
       "  <th>Prob(Omnibus):</th> <td> 0.000</td>  <th>  Jarque-Bera (JB):  </th> <td>1600.827</td>\n",
       "</tr>\n",
       "<tr>\n",
       "  <th>Skew:</th>          <td>-0.454</td>  <th>  Prob(JB):          </th> <td>    0.00</td>\n",
       "</tr>\n",
       "<tr>\n",
       "  <th>Kurtosis:</th>      <td> 7.991</td>  <th>  Cond. No.          </th> <td>    96.7</td>\n",
       "</tr>\n",
       "</table><br/><br/>Warnings:<br/>[1] Standard Errors assume that the covariance matrix of the errors is correctly specified."
      ],
      "text/plain": [
       "<class 'statsmodels.iolib.summary.Summary'>\n",
       "\"\"\"\n",
       "                            OLS Regression Results                            \n",
       "==============================================================================\n",
       "Dep. Variable:                 NIKKEI   R-squared:                       0.030\n",
       "Model:                            OLS   Adj. R-squared:                  0.029\n",
       "Method:                 Least Squares   F-statistic:                     45.95\n",
       "Date:                Sun, 21 Oct 2018   Prob (F-statistic):           1.74e-11\n",
       "Time:                        09:01:02   Log-Likelihood:                 4342.2\n",
       "No. Observations:                1493   AIC:                            -8680.\n",
       "Df Residuals:                    1491   BIC:                            -8670.\n",
       "Df Model:                           1                                         \n",
       "Covariance Type:            nonrobust                                         \n",
       "==============================================================================\n",
       "                 coef    std err          t      P>|t|      [0.025      0.975]\n",
       "------------------------------------------------------------------------------\n",
       "const          0.0004      0.000      1.060      0.289      -0.000       0.001\n",
       "NYSE           0.2240      0.033      6.778      0.000       0.159       0.289\n",
       "==============================================================================\n",
       "Omnibus:                      218.467   Durbin-Watson:                   2.262\n",
       "Prob(Omnibus):                  0.000   Jarque-Bera (JB):             1600.827\n",
       "Skew:                          -0.454   Prob(JB):                         0.00\n",
       "Kurtosis:                       7.991   Cond. No.                         96.7\n",
       "==============================================================================\n",
       "\n",
       "Warnings:\n",
       "[1] Standard Errors assume that the covariance matrix of the errors is correctly specified.\n",
       "\"\"\""
      ]
     },
     "execution_count": 14,
     "metadata": {},
     "output_type": "execute_result"
    }
   ],
   "source": [
    "# OLS regression\n",
    "x = sm.add_constant(return_datas['NYSE'])\n",
    "linear_model = sm.OLS(return_datas['NIKKEI'], x).fit()\n",
    "linear_model.summary()"
   ]
  },
  {
   "cell_type": "code",
   "execution_count": 17,
   "metadata": {},
   "outputs": [
    {
     "data": {
      "text/html": [
       "<div>\n",
       "<style scoped>\n",
       "    .dataframe tbody tr th:only-of-type {\n",
       "        vertical-align: middle;\n",
       "    }\n",
       "\n",
       "    .dataframe tbody tr th {\n",
       "        vertical-align: top;\n",
       "    }\n",
       "\n",
       "    .dataframe thead th {\n",
       "        text-align: right;\n",
       "    }\n",
       "</style>\n",
       "<table border=\"1\" class=\"dataframe\">\n",
       "  <thead>\n",
       "    <tr style=\"text-align: right;\">\n",
       "      <th></th>\n",
       "      <th>NIKKEI</th>\n",
       "    </tr>\n",
       "    <tr>\n",
       "      <th>Date</th>\n",
       "      <th></th>\n",
       "    </tr>\n",
       "  </thead>\n",
       "  <tbody>\n",
       "    <tr>\n",
       "      <th>2015-09-29</th>\n",
       "      <td>-0.040480</td>\n",
       "    </tr>\n",
       "    <tr>\n",
       "      <th>2015-09-30</th>\n",
       "      <td>0.027011</td>\n",
       "    </tr>\n",
       "  </tbody>\n",
       "</table>\n",
       "</div>"
      ],
      "text/plain": [
       "              NIKKEI\n",
       "Date                \n",
       "2015-09-29 -0.040480\n",
       "2015-09-30  0.027011"
      ]
     },
     "execution_count": 17,
     "metadata": {},
     "output_type": "execute_result"
    }
   ],
   "source": [
    "nyse_lag = nyse_close.shift(1)\n",
    "nyse_lag.fillna('0', inplace = True)\n",
    "nyse_lag.tail(2)\n",
    "nikkei_close.tail(2)"
   ]
  },
  {
   "cell_type": "code",
   "execution_count": 18,
   "metadata": {},
   "outputs": [],
   "source": [
    "from sklearn.model_selection import train_test_split\n",
    "nyse_train, nyse_test, nikkei_train, nikkei_test = train_test_split(nyse_lag, nikkei_close, test_size = 0.25, random_state = 42)"
   ]
  },
  {
   "cell_type": "code",
   "execution_count": 20,
   "metadata": {},
   "outputs": [
    {
     "data": {
      "image/png": "[encoded data removed]",
      "text/plain": [
       "<Figure size 432x288 with 1 Axes>"
      ]
     },
     "metadata": {},
     "output_type": "display_data"
    }
   ],
   "source": [
    "from sklearn.preprocessing import PolynomialFeatures as pf\n",
    "from sklearn.linear_model import LinearRegression\n",
    "poly = pf(degree = 1, include_bias = False)\n",
    "nyse_new = poly.fit_transform(nyse_train)\n",
    "nyse_test_new = poly.fit_transform(nyse_test)\n",
    "model = LinearRegression()\n",
    "model.fit(nyse_new, nikkei_train)\n",
    "nikkei_pred = model.predict(nyse_new)\n",
    "nikkei_test_pred = model.predict(nyse_test_new)\n",
    "\n",
    "plt.scatter(nyse_train, nikkei_train)\n",
    "plt.plot(nyse_new[:, 0], nikkei_pred, 'r')\n",
    "plt.plot(nyse_test_new[:, 0], nikkei_test_pred, 'g')\n",
    "plt.legend(['Predicted line', 'Test data', 'Observed data'])\n",
    "plt.show()"
   ]
  },
  {
   "cell_type": "code",
   "execution_count": 41,
   "metadata": {},
   "outputs": [],
   "source": [
    "return_datas_test['nyse_test_lag'] = return_datas_test['NYSE'].shift(1)\n",
    "return_datas_test.fillna(0, inplace = True)\n",
    "nyse_test_lag = pd.DataFrame(return_datas_test['nyse_test_lag'])\n",
    "poly_nyse_test_lag = poly.fit_transform(nyse_test_lag)"
   ]
  },
  {
   "cell_type": "code",
   "execution_count": null,
   "metadata": {},
   "outputs": [],
   "source": [
    "poly = pf(degree = 1, include_bias = False)\n",
    "poly_nyse_test_lag = poly.fit_transform(nyse_test_lag)\n",
    "model_lag = LinearRegression()\n",
    "model_lag.fit(poly_nyse_lag, nikkei_close)\n",
    "nikkei_pred_lag = model_lag.predict(poly_nyse_lag)"
   ]
  },
  {
   "cell_type": "code",
   "execution_count": 29,
   "metadata": {},
   "outputs": [],
   "source": [
    "plt.scatter(return_datas_test['NYSE'], return_datas_test['NIKKEI'])\n",
    "plt.plot(nyse_new[:, 0], nikkei_pred, 'r')\n",
    "plt.plot(nyse_test_new[:, 0], nikkei_test_pred, 'g')\n",
    "plt.legend(['Predicted line', 'Test data', 'Observed data'])\n",
    "plt.show()"
   ]
  },
  {
   "cell_type": "code",
   "execution_count": null,
   "metadata": {},
   "outputs": [],
   "source": []
  },
  {
   "cell_type": "code",
   "execution_count": null,
   "metadata": {},
   "outputs": [],
   "source": []
  },
  {
   "cell_type": "code",
   "execution_count": null,
   "metadata": {},
   "outputs": [],
   "source": []
  },
  {
   "cell_type": "code",
   "execution_count": null,
   "metadata": {},
   "outputs": [],
   "source": [
    "from xgboost import XGBClassifier\n",
    "# XGBoost is an implementation of gradient boosted decision trees\n",
    "xgmodel = XGBClassifier(max_depth=6, learning_rate=0.1,n_estimators=100,\n",
    "                      n_jobs=16,scale_pos_weight=4,missing=np.nan,gamma=16,\n",
    "                      eval_metric=\"auc\",reg_lambda=40,reg_alpha=40)\n",
    "xgmodel.fit(nikkei_train,nyse_train)"
   ]
  },
  {
   "cell_type": "code",
   "execution_count": null,
   "metadata": {},
   "outputs": [],
   "source": []
  },
  {
   "cell_type": "code",
   "execution_count": null,
   "metadata": {},
   "outputs": [],
   "source": []
  },
  {
   "cell_type": "code",
   "execution_count": null,
   "metadata": {},
   "outputs": [],
   "source": []
  },
  {
   "cell_type": "code",
   "execution_count": null,
   "metadata": {},
   "outputs": [],
   "source": []
  },
  {
   "cell_type": "code",
   "execution_count": null,
   "metadata": {},
   "outputs": [],
   "source": []
  },
  {
   "cell_type": "code",
   "execution_count": null,
   "metadata": {},
   "outputs": [],
   "source": []
  },
  {
   "cell_type": "code",
   "execution_count": null,
   "metadata": {},
   "outputs": [],
   "source": []
  },
  {
   "cell_type": "code",
   "execution_count": null,
   "metadata": {},
   "outputs": [],
   "source": []
  },
  {
   "cell_type": "code",
   "execution_count": null,
   "metadata": {},
   "outputs": [],
   "source": []
  },
  {
   "cell_type": "code",
   "execution_count": null,
   "metadata": {},
   "outputs": [],
   "source": [
    "from sklearn.metric import roc_auc_score\n",
    "y_train_predcted = xgmodel.predict_proba()"
   ]
  },
  {
   "cell_type": "code",
   "execution_count": null,
   "metadata": {},
   "outputs": [],
   "source": []
  },
  {
   "cell_type": "code",
   "execution_count": null,
   "metadata": {},
   "outputs": [],
   "source": []
  },
  {
   "cell_type": "code",
   "execution_count": null,
   "metadata": {},
   "outputs": [],
   "source": []
  },
  {
   "cell_type": "code",
   "execution_count": null,
   "metadata": {},
   "outputs": [],
   "source": []
  },
  {
   "cell_type": "code",
   "execution_count": null,
   "metadata": {},
   "outputs": [],
   "source": []
  },
  {
   "cell_type": "code",
   "execution_count": null,
   "metadata": {},
   "outputs": [],
   "source": []
  },
  {
   "cell_type": "code",
   "execution_count": null,
   "metadata": {},
   "outputs": [],
   "source": []
  },
  {
   "cell_type": "code",
   "execution_count": null,
   "metadata": {},
   "outputs": [],
   "source": []
  },
  {
   "cell_type": "code",
   "execution_count": null,
   "metadata": {},
   "outputs": [],
   "source": []
  },
  {
   "cell_type": "code",
   "execution_count": null,
   "metadata": {},
   "outputs": [],
   "source": []
  },
  {
   "cell_type": "code",
   "execution_count": null,
   "metadata": {},
   "outputs": [],
   "source": []
  },
  {
   "cell_type": "code",
   "execution_count": null,
   "metadata": {},
   "outputs": [],
   "source": []
  },
  {
   "cell_type": "code",
   "execution_count": null,
   "metadata": {},
   "outputs": [],
   "source": []
  },
  {
   "cell_type": "code",
   "execution_count": null,
   "metadata": {},
   "outputs": [],
   "source": []
  },
  {
   "cell_type": "code",
   "execution_count": null,
   "metadata": {},
   "outputs": [],
   "source": []
  }
 ],
 "metadata": {
  "kernelspec": {
   "display_name": "Python 3",
   "language": "python",
   "name": "python3"
  },
  "language_info": {
   "codemirror_mode": {
    "name": "ipython",
    "version": 3
   },
   "file_extension": ".py",
   "mimetype": "text/x-python",
   "name": "python",
   "nbconvert_exporter": "python",
   "pygments_lexer": "ipython3",
   "version": "3.6.5"
  }
 },
 "nbformat": 4,
 "nbformat_minor": 2
}
