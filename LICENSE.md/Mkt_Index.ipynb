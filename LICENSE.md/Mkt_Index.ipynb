{
 "cells": [
  {
   "cell_type": "code",
   "execution_count": 43,
   "metadata": {},
   "outputs": [],
   "source": [
    "import pandas_datareader as pdr\n",
    "import datetime\n",
    "import pandas as pd\n",
    "import matplotlib.pyplot as plt"
   ]
  },
  {
   "cell_type": "code",
   "execution_count": 28,
   "metadata": {},
   "outputs": [],
   "source": [
    "spx = pdr.get_data_yahoo('^GSPC')\n",
    "nikkei = pdr.get_data_yahoo('^N225')\n",
    "shcomp = pdr.get_data_yahoo('000001.SS')"
   ]
  },
  {
   "cell_type": "code",
   "execution_count": 32,
   "metadata": {},
   "outputs": [
    {
     "data": {
      "text/html": [
       "<div>\n",
       "<style scoped>\n",
       "    .dataframe tbody tr th:only-of-type {\n",
       "        vertical-align: middle;\n",
       "    }\n",
       "\n",
       "    .dataframe tbody tr th {\n",
       "        vertical-align: top;\n",
       "    }\n",
       "\n",
       "    .dataframe thead th {\n",
       "        text-align: right;\n",
       "    }\n",
       "</style>\n",
       "<table border=\"1\" class=\"dataframe\">\n",
       "  <thead>\n",
       "    <tr style=\"text-align: right;\">\n",
       "      <th></th>\n",
       "      <th>High</th>\n",
       "      <th>Low</th>\n",
       "      <th>Open</th>\n",
       "      <th>Close</th>\n",
       "      <th>Volume</th>\n",
       "      <th>Adj Close</th>\n",
       "    </tr>\n",
       "    <tr>\n",
       "      <th>Date</th>\n",
       "      <th></th>\n",
       "      <th></th>\n",
       "      <th></th>\n",
       "      <th></th>\n",
       "      <th></th>\n",
       "      <th></th>\n",
       "    </tr>\n",
       "  </thead>\n",
       "  <tbody>\n",
       "    <tr>\n",
       "      <th>2010-01-04</th>\n",
       "      <td>1133.869995</td>\n",
       "      <td>1116.560059</td>\n",
       "      <td>1116.560059</td>\n",
       "      <td>1132.98999</td>\n",
       "      <td>3991400000</td>\n",
       "      <td>1132.98999</td>\n",
       "    </tr>\n",
       "  </tbody>\n",
       "</table>\n",
       "</div>"
      ],
      "text/plain": [
       "                   High          Low         Open       Close      Volume  \\\n",
       "Date                                                                        \n",
       "2010-01-04  1133.869995  1116.560059  1116.560059  1132.98999  3991400000   \n",
       "\n",
       "             Adj Close  \n",
       "Date                    \n",
       "2010-01-04  1132.98999  "
      ]
     },
     "execution_count": 32,
     "metadata": {},
     "output_type": "execute_result"
    }
   ],
   "source": [
    "shcomp.head(1)\n",
    "nikkei.head(1)\n",
    "spx.head(1)"
   ]
  },
  {
   "cell_type": "code",
   "execution_count": 40,
   "metadata": {},
   "outputs": [],
   "source": [
    "spx_daily_pct_change = spx.pct_change()\n",
    "nikkei_daily_pct_change = nikkei.pct_change()\n",
    "shcomp_daily_pct_change = shcomp.pct_change()"
   ]
  },
  {
   "cell_type": "code",
   "execution_count": 44,
   "metadata": {},
   "outputs": [
    {
     "data": {
      "image/png": "[encoded data removed]",
      "text/plain": [
       "<Figure size 432x288 with 6 Axes>"
      ]
     },
     "metadata": {},
     "output_type": "display_data"
    }
   ],
   "source": [
    "spx_daily_pct_change.hist(bins = 100)\n",
    "plt.show()"
   ]
  },
  {
   "cell_type": "code",
   "execution_count": 46,
   "metadata": {},
   "outputs": [
    {
     "data": {
      "text/html": [
       "<div>\n",
       "<style scoped>\n",
       "    .dataframe tbody tr th:only-of-type {\n",
       "        vertical-align: middle;\n",
       "    }\n",
       "\n",
       "    .dataframe tbody tr th {\n",
       "        vertical-align: top;\n",
       "    }\n",
       "\n",
       "    .dataframe thead th {\n",
       "        text-align: right;\n",
       "    }\n",
       "</style>\n",
       "<table border=\"1\" class=\"dataframe\">\n",
       "  <thead>\n",
       "    <tr style=\"text-align: right;\">\n",
       "      <th></th>\n",
       "      <th>High</th>\n",
       "      <th>Low</th>\n",
       "      <th>Open</th>\n",
       "      <th>Close</th>\n",
       "      <th>Volume</th>\n",
       "      <th>Adj Close</th>\n",
       "    </tr>\n",
       "  </thead>\n",
       "  <tbody>\n",
       "    <tr>\n",
       "      <th>count</th>\n",
       "      <td>2215.000000</td>\n",
       "      <td>2215.000000</td>\n",
       "      <td>2215.000000</td>\n",
       "      <td>2215.000000</td>\n",
       "      <td>2215.000000</td>\n",
       "      <td>2215.000000</td>\n",
       "    </tr>\n",
       "    <tr>\n",
       "      <th>mean</th>\n",
       "      <td>0.000432</td>\n",
       "      <td>0.000447</td>\n",
       "      <td>0.000450</td>\n",
       "      <td>0.000446</td>\n",
       "      <td>0.017608</td>\n",
       "      <td>0.000446</td>\n",
       "    </tr>\n",
       "    <tr>\n",
       "      <th>std</th>\n",
       "      <td>0.006957</td>\n",
       "      <td>0.008697</td>\n",
       "      <td>0.008808</td>\n",
       "      <td>0.009267</td>\n",
       "      <td>0.207437</td>\n",
       "      <td>0.009267</td>\n",
       "    </tr>\n",
       "    <tr>\n",
       "      <th>min</th>\n",
       "      <td>-0.034610</td>\n",
       "      <td>-0.079748</td>\n",
       "      <td>-0.065291</td>\n",
       "      <td>-0.066634</td>\n",
       "      <td>-0.761155</td>\n",
       "      <td>-0.066634</td>\n",
       "    </tr>\n",
       "    <tr>\n",
       "      <th>25%</th>\n",
       "      <td>-0.002667</td>\n",
       "      <td>-0.003371</td>\n",
       "      <td>-0.003296</td>\n",
       "      <td>-0.003297</td>\n",
       "      <td>-0.081489</td>\n",
       "      <td>-0.003297</td>\n",
       "    </tr>\n",
       "    <tr>\n",
       "      <th>50%</th>\n",
       "      <td>0.000423</td>\n",
       "      <td>0.001113</td>\n",
       "      <td>0.000716</td>\n",
       "      <td>0.000546</td>\n",
       "      <td>-0.001709</td>\n",
       "      <td>0.000546</td>\n",
       "    </tr>\n",
       "    <tr>\n",
       "      <th>75%</th>\n",
       "      <td>0.003951</td>\n",
       "      <td>0.004893</td>\n",
       "      <td>0.004730</td>\n",
       "      <td>0.004962</td>\n",
       "      <td>0.088687</td>\n",
       "      <td>0.004962</td>\n",
       "    </tr>\n",
       "    <tr>\n",
       "      <th>max</th>\n",
       "      <td>0.037215</td>\n",
       "      <td>0.044092</td>\n",
       "      <td>0.046008</td>\n",
       "      <td>0.047407</td>\n",
       "      <td>3.234605</td>\n",
       "      <td>0.047407</td>\n",
       "    </tr>\n",
       "  </tbody>\n",
       "</table>\n",
       "</div>"
      ],
      "text/plain": [
       "              High          Low         Open        Close       Volume  \\\n",
       "count  2215.000000  2215.000000  2215.000000  2215.000000  2215.000000   \n",
       "mean      0.000432     0.000447     0.000450     0.000446     0.017608   \n",
       "std       0.006957     0.008697     0.008808     0.009267     0.207437   \n",
       "min      -0.034610    -0.079748    -0.065291    -0.066634    -0.761155   \n",
       "25%      -0.002667    -0.003371    -0.003296    -0.003297    -0.081489   \n",
       "50%       0.000423     0.001113     0.000716     0.000546    -0.001709   \n",
       "75%       0.003951     0.004893     0.004730     0.004962     0.088687   \n",
       "max       0.037215     0.044092     0.046008     0.047407     3.234605   \n",
       "\n",
       "         Adj Close  \n",
       "count  2215.000000  \n",
       "mean      0.000446  \n",
       "std       0.009267  \n",
       "min      -0.066634  \n",
       "25%      -0.003297  \n",
       "50%       0.000546  \n",
       "75%       0.004962  \n",
       "max       0.047407  "
      ]
     },
     "execution_count": 46,
     "metadata": {},
     "output_type": "execute_result"
    }
   ],
   "source": [
    "spx_daily_pct_change.describe()"
   ]
  },
  {
   "cell_type": "code",
   "execution_count": null,
   "metadata": {},
   "outputs": [],
   "source": []
  },
  {
   "cell_type": "code",
   "execution_count": null,
   "metadata": {},
   "outputs": [],
   "source": []
  },
  {
   "cell_type": "code",
   "execution_count": null,
   "metadata": {},
   "outputs": [],
   "source": []
  },
  {
   "cell_type": "code",
   "execution_count": null,
   "metadata": {},
   "outputs": [],
   "source": []
  },
  {
   "cell_type": "code",
   "execution_count": null,
   "metadata": {},
   "outputs": [],
   "source": []
  },
  {
   "cell_type": "code",
   "execution_count": null,
   "metadata": {},
   "outputs": [],
   "source": []
  },
  {
   "cell_type": "code",
   "execution_count": null,
   "metadata": {},
   "outputs": [],
   "source": []
  },
  {
   "cell_type": "code",
   "execution_count": null,
   "metadata": {},
   "outputs": [],
   "source": []
  }
 ],
 "metadata": {
  "kernelspec": {
   "display_name": "Python 3",
   "language": "python",
   "name": "python3"
  },
  "language_info": {
   "codemirror_mode": {
    "name": "ipython",
    "version": 3
   },
   "file_extension": ".py",
   "mimetype": "text/x-python",
   "name": "python",
   "nbconvert_exporter": "python",
   "pygments_lexer": "ipython3",
   "version": "3.6.5"
  }
 },
 "nbformat": 4,
 "nbformat_minor": 2
}
